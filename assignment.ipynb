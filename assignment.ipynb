{
 "cells": [
  {
   "cell_type": "markdown",
   "metadata": {},
   "source": [
    "# Exercise 1 - First Steps with LaTeX and Git"
   ]
  },
  {
   "cell_type": "markdown",
   "metadata": {},
   "source": [
    "## Background\n",
    "\n",
    "In this exercise you will gain some more practical experience with LaTeX and Git. Moreover, you will learn the general workflow of completing assignments that are distributed via GitHub Classroom. \n",
    "\n",
    "### The Deadline is November 15 at 11 p.m.\n",
    "\n",
    "## General Notes\n",
    "\n",
    "- It is important that throughout the assignment you stick to the exact file names and file extensions if we mention any. Do not rename files that we provide to you unless we explicitly ask you to do that.\n",
    "- If you are using a Windows computer, you might want to configure it to display file extensions as explained in this [tutorial](https://www.howtogeek.com/205086/beginner-how-to-make-windows-show-file-extensions/). All other operating systems will typically display them. \n",
    "- Use VS Code (or another general purpose text editor) to write and compile LaTeX.\n",
    "- We are looking for concise and precise answers in the questions about the technology of skill formation. Extra long but imprecise answers will not be rewarded!\n",
    "- Do not worry if you make a mistake with git that produces a weird commit history. We will not deduct points for that. But we will deduct points if you do not commit frequently and try to write good commit messages for each commit. A good commit message is a full sentence, i.e. starts with a capital letter and ends with a period. \n",
    "- Never put any generated output under version control. Otherwise we will deduct points. \n",
    "- When we write shell or terminal this always means Powershell for Windows users and Terminal for Mac and Linux users. Feel free to use the versions embedded in VS Code. Only use something else if you really know what you are doing!\n"
   ]
  },
  {
   "cell_type": "markdown",
   "metadata": {},
   "source": [
    "## Tasks\n",
    "\n",
    "\n",
    "1. This is the first out of 6 assignments. When you decide to which location you clone the assignment repository, you should take this into account and already think about a suitable directory structure and naming scheme that will keep everything well structured and shell friendly (e.g. no spaces in file paths).\n",
    "\n",
    "   Discuss in your group what would be a good structure and get started  sure this is the same for everybody.\n",
    "\n",
    "   While we cannot see and grade how much you use the shell, we encourage you to use it as much as possible. For example to:\n",
    "   - generate directiories\n",
    "   - generate files\n",
    "   - use git (there are graphical interfaces to git, but you should definitely not use them while learning)\n",
    "   - listing files in a directory\n",
    "   - ...\n",
    "\n",
    "1. If you have not already done so, click on the invitation link you received via GitHub classroom and clone the repository that was generated for you to your local machine.\n",
    "\n",
    "   <div class=\"alert alert-success\">\n",
    "   Note: If you follow the tasks in order you can continue without knowing git. Use the live share feature of VS Code to jointly work    on files.\n",
    "   </div>\n",
    "\n",
    "2. Add one `.tex` file per group member called `firstname_lastname.tex`. This file does not need a preamble, as it will be included in a bigger document later, but you might want to structure it via `/section`, `/subsection` and the like. In this file, describe in one paragraph the way you have been doing research using a computer (or are planning to do it). We are looking for something similar as the motivation in the first lecture: Which tools you are using for what, how you are moving data around between different tools (if applicable). We want actual workflows, not idealized ones. This helps us to tailor the course to your needs. \n",
    "\n",
    "3. Read [The Technology of Skill Formation](https://www.aeaweb.org/articles?id=10.1257/aer.97.2.31) by Flavio Cunha and James Heckman and answer the following questions:\n",
    "    - List the six stylized facts from the intervention literature that inspired the Technology of Skill Formation.\n",
    "    - Describe the model presented in section II in less than 200 words (no equations).\n",
    "    - Explain the following concepts: 1) Critical period. 2) Sensitive period. 3) Dynamic complementarity.\n",
    "    - What assumption is made about dynamic complementarity if the production function of skills is assumed to be linear? Show this formally (using the definition of Dynamic complementarity right below equation 2) and type the full derivation into the .tex document. Hint: this is really simple!\n",
    "    - In empirical applications of the Technology of Skill Formation, cognitive and non-cognitive skills are treated as latent factors. Test scores are only noisy proxies for those factors, i.e a test score is the latent factor + a measurement error. What happens if one ignores the difference between skills and test scores when estimating a linear production function of skills (using OLS)? A precise verbal answer is enough, we do not need a formal proof.\n",
    "    For each answer you should work in a separate `.tex` file that will later be included in the main document. Distribute the workload among group members. You can choose the file names. \n",
    "    \n",
    "\n",
    "<div class=\"alert alert-success\">\n",
    "Note: Now you will start using git to add the files you have written so far to the repository and push it to the GitHub.\n",
    "</div>\n",
    "\n",
    "4. Add a LaTeX document called `solution.tex` to your repository. The file should contain a valid LaTeX preamble and have the documentclass `article`. Make sure it compiles. Collaborate via live share, then one group member adds the file to git, commits and pushes to the central repository. \n",
    "\n",
    "5. Each group member includes the files she wrote so far into `solution.tex` (using `/input` or `/include`), commits the changes and pushes to the central repository. Coordinate so you do not get merge conflicts. If you get merge conflicts, do not panic and learn how to solve them.\n",
    "\n",
    "\n",
    "6. Create a `.gitignore` file and configure it such that any of the following will be ignored:\n",
    "    - all LaTeX outputs \n",
    "    - all files that start with a `.` \n",
    "    - all folders called `__pycache__`.   \n",
    "    \n",
    "    If for some reason you already committed files that should be ignored, please remove them. Commit the file before you proceed to the next step. You need `git add -f .gitignore` because you just told git to ignore files starting with a `.`. \n",
    "\n",
    "7. Compile the document to a pdf. Make changes to the relevant files until your document is readable and well structured. \n",
    "\n",
    "\n",
    "8. To help us grading your assignment efficiently, we need to be able to connect your ecampus id (s6...) with your GitHub name and group name. For this we need a table like the following:\n",
    "    | ecampus_id    | github_name    |\n",
    "    | ------------- | -------------- | \n",
    "    | s6blabla      | master-coder   |\n",
    "    | s6abc         | econ-beast     |\n",
    "    \n",
    "    You can write this in Excel or LibreOffice, but it is important that you save it in the `.csv` format under the name `ecampus_to_github.csv`. It is important that you list the GitHub names of all group members, even if some of them do not plan to do the assignments and stick to the exact file name.\n",
    "    \n",
    "9. Commit your final version (on the main branch) and push it to the GitHub repository. "
   ]
  },
  {
   "cell_type": "code",
   "execution_count": null,
   "metadata": {},
   "outputs": [],
   "source": []
  }
 ],
 "metadata": {
  "kernelspec": {
   "display_name": "Python 3",
   "language": "python",
   "name": "python3"
  },
  "language_info": {
   "codemirror_mode": {
    "name": "ipython",
    "version": 3
   },
   "file_extension": ".py",
   "mimetype": "text/x-python",
   "name": "python",
   "nbconvert_exporter": "python",
   "pygments_lexer": "ipython3",
   "version": "3.7.4"
  }
 },
 "nbformat": 4,
 "nbformat_minor": 2
}
